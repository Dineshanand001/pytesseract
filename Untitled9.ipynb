{
 "cells": [
  {
   "cell_type": "code",
   "execution_count": 1,
   "metadata": {},
   "outputs": [],
   "source": [
    "from PIL import Image, ImageEnhance, ImageFilter\n",
    "import pytesseract\n",
    "from pytesseract import image_to_string\n"
   ]
  },
  {
   "cell_type": "code",
   "execution_count": 2,
   "metadata": {},
   "outputs": [],
   "source": [
    "path = r'C:/Users/dinesha/Downloads/HWLay.gif'\n",
    "img = Image.open(path)"
   ]
  },
  {
   "cell_type": "code",
   "execution_count": 3,
   "metadata": {},
   "outputs": [
    {
     "name": "stdout",
     "output_type": "stream",
     "text": [
      "<PIL.Image.Image image mode=RGB size=120x60 at 0x26104EFD518>\n"
     ]
    }
   ],
   "source": [
    "img = img.convert('RGB')\n",
    "print(img)\n",
    "img.save(r'C:/Users/dinesha/Downloads/temp4.jpg')"
   ]
  },
  {
   "cell_type": "code",
   "execution_count": 4,
   "metadata": {},
   "outputs": [
    {
     "name": "stdout",
     "output_type": "stream",
     "text": [
      "<PixelAccess object at 0x0000026103A7A190>\n"
     ]
    }
   ],
   "source": [
    "pix = img.load()\n",
    "print(pix)"
   ]
  },
  {
   "cell_type": "code",
   "execution_count": 5,
   "metadata": {},
   "outputs": [
    {
     "name": "stdout",
     "output_type": "stream",
     "text": [
      "<PixelAccess object at 0x0000026103A7A190>\n"
     ]
    }
   ],
   "source": [
    "for y in range(img.size[1]):\n",
    "    for x in range(img.size[0]):\n",
    "        if pix[x, y][0] < 102 or pix[x, y][1] < 102 or pix[x, y][2] < 102:\n",
    "            pix[x, y] = (0, 0, 0, 255)\n",
    "        else:\n",
    "            pix[x, y] = (255, 255, 255, 255)\n",
    "print(pix) \n",
    "img.save(r'C:/Users/dinesha/Downloads/temp4.jpg')"
   ]
  },
  {
   "cell_type": "code",
   "execution_count": 6,
   "metadata": {},
   "outputs": [
    {
     "name": "stdout",
     "output_type": "stream",
     "text": [
      "2.HHH\n"
     ]
    }
   ],
   "source": [
    "img.save(r'C:/Users/dinesha/Downloads/temp44.jpg')\n",
    "text = pytesseract.image_to_string(Image.open(r'C:/Users/dinesha/Downloads/temp44.jpg'),lang=\"eng\")\n",
    "print(text)"
   ]
  },
  {
   "cell_type": "code",
   "execution_count": null,
   "metadata": {},
   "outputs": [],
   "source": []
  },
  {
   "cell_type": "code",
   "execution_count": null,
   "metadata": {},
   "outputs": [],
   "source": []
  },
  {
   "cell_type": "code",
   "execution_count": null,
   "metadata": {},
   "outputs": [],
   "source": []
  },
  {
   "cell_type": "code",
   "execution_count": null,
   "metadata": {},
   "outputs": [],
   "source": []
  }
 ],
 "metadata": {
  "kernelspec": {
   "display_name": "Python 3",
   "language": "python",
   "name": "python3"
  },
  "language_info": {
   "codemirror_mode": {
    "name": "ipython",
    "version": 3
   },
   "file_extension": ".py",
   "mimetype": "text/x-python",
   "name": "python",
   "nbconvert_exporter": "python",
   "pygments_lexer": "ipython3",
   "version": "3.6.5"
  }
 },
 "nbformat": 4,
 "nbformat_minor": 2
}
